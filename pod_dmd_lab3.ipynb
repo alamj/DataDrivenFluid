{
 "cells": [
  {
   "cell_type": "code",
   "execution_count": 1,
   "metadata": {},
   "outputs": [],
   "source": [
    "import numpy as np\n",
    "import matplotlib.pyplot as plt"
   ]
  },
  {
   "cell_type": "code",
   "execution_count": 2,
   "metadata": {},
   "outputs": [],
   "source": [
    "# replace ffl with the appropriate filename in your computer\n",
    "\n",
    "ffl = \"/home/alamj/awcm++/post_process/data/xnaca/csvs/xcyl2d.csv\"\n",
    "u = np.loadtxt(ffl,delimiter=\",\")\n",
    "nx = 768\n",
    "nz = 192\n",
    "x = np.linspace(0,32,nx)\n",
    "z = np.linspace(0,8,nz)\n",
    "U = u[:,400:601]\n"
   ]
  },
  {
   "cell_type": "code",
   "execution_count": 5,
   "metadata": {},
   "outputs": [
    {
     "data": {
      "text/plain": [
       "array([[1.        , 0.04574592],\n",
       "       [0.04574592, 1.        ]])"
      ]
     },
     "execution_count": 5,
     "metadata": {},
     "output_type": "execute_result"
    },
    {
     "data": {
      "image/png": "[encoded data removed]",
      "text/plain": [
       "<Figure size 360x360 with 1 Axes>"
      ]
     },
     "metadata": {
      "needs_background": "light"
     },
     "output_type": "display_data"
    }
   ],
   "source": [
    "# Dynamic mode decomposition of a random matrix U\n",
    "np.random.seed(123456789)\n",
    "U = np.random.randn(100,40)\n",
    "\n",
    "# Regression U2 = A*U1\n",
    "U1 = U[:,:-1]\n",
    "U2 =U[:,1:]\n",
    "# POD\n",
    "Phi,Sig,PsiT = np.linalg.svd(U1,full_matrices=0)\n",
    "\n",
    "r =10\n",
    "rPhi = Phi[:,:r]\n",
    "rSig = Sig[:r]\n",
    "rPsiT = PsiT[:r,:]\n",
    "\n",
    "# projected data\n",
    "\n",
    "rU = np.dot(rPhi*rSig, rPsiT)\n",
    "\n",
    "#plt.plot(U[:,0],rU[:,0],'.')\n",
    "#np.corrcoef(U[:,0],rU[:,0])\n",
    "\n",
    "Energy = Sig**2/np.sum(Sig**2)\n",
    "#plt.plot(Energy)\n",
    "#plt.plot(np.cumsum(Energy))\n",
    "\n",
    "# DMD mode\n",
    "# regression equation U2 = A*U1\n",
    "\n",
    "A = np.linalg.multi_dot([rPhi.T, U2, rPsiT.T/rSig])  #Atilde\n",
    "\n",
    "Omega, R = np.linalg.eig(A)\n",
    "\n",
    "# computing dynamic modes\n",
    "\n",
    "D = np.linalg.multi_dot([U2, rPsiT.T/rSig, R])\n",
    "\n",
    "pD = np.dot(rPhi,R)\n",
    "\n",
    "idx = Omega.argsort()[::-1]\n",
    "idx[:10]\n",
    "#pD[:,idx[0]] # strongest DMD modes\n",
    "\n",
    "theta = np.linspace(0,2*np.pi,101)\n",
    "circ = np.array([np.cos(theta),np.sin(theta)])\n",
    "plt.figure(figsize=(5,5))\n",
    "\n",
    "plt.plot(circ[0,:],circ[1,:])\n",
    "plt.plot(Omega.real,Omega.imag,'.')\n",
    "\n",
    "# DMD reconstruction\n",
    "u0 = U[:,0]\n",
    "b = np.linalg.lstsq(pD,u0,rcond=None)[0] # pD*b = u0\n",
    "\n",
    "dt = 0.125\n",
    "omega = np.log(Omega)/dt\n",
    "\n",
    "m =20\n",
    "t = m*dt\n",
    "V = np.dot(pD, b*np.exp(omega*t)).real\n",
    "np.corrcoef(V,U[:,m])"
   ]
  }
 ],
 "metadata": {
  "kernelspec": {
   "display_name": "Python 3",
   "language": "python",
   "name": "python3"
  },
  "language_info": {
   "codemirror_mode": {
    "name": "ipython",
    "version": 3
   },
   "file_extension": ".py",
   "mimetype": "text/x-python",
   "name": "python",
   "nbconvert_exporter": "python",
   "pygments_lexer": "ipython3",
   "version": "3.10.11"
  },
  "orig_nbformat": 4,
  "vscode": {
   "interpreter": {
    "hash": "e7370f93d1d0cde622a1f8e1c04877d8463912d04d973331ad4851f04de6915a"
   }
  }
 },
 "nbformat": 4,
 "nbformat_minor": 2
}
